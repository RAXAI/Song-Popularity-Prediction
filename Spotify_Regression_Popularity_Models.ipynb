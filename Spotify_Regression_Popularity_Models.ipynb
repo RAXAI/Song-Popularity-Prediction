{
  "nbformat": 4,
  "nbformat_minor": 0,
  "metadata": {
    "colab": {
      "name": "Spotify_Regression_Popularity_Models.ipynb",
      "provenance": [],
      "toc_visible": true
    },
    "kernelspec": {
      "name": "python3",
      "display_name": "Python 3"
    }
  },
  "cells": [
    {
      "cell_type": "code",
      "metadata": {
        "colab": {
          "base_uri": "https://localhost:8080/"
        },
        "id": "5jLDTCeR00Bc",
        "outputId": "92c78525-fd67-4164-cc1e-3fad9ab96cfd"
      },
      "source": [
        "from google.colab import drive\n",
        "drive.mount('/content/drive')"
      ],
      "execution_count": 1,
      "outputs": [
        {
          "output_type": "stream",
          "text": [
            "Mounted at /content/drive\n"
          ],
          "name": "stdout"
        }
      ]
    },
    {
      "cell_type": "code",
      "metadata": {
        "id": "N1eBuVzV8w7y"
      },
      "source": [
        "#importing modules\n",
        "import pandas as pd\n",
        "import seaborn as sns\n",
        "import numpy as np \n",
        "import matplotlib.pyplot as plt\n",
        "import matplotlib.ticker as mtick\n",
        "import datetime as dt\n",
        "from sklearn.model_selection import train_test_split\n",
        "from sklearn.linear_model import LinearRegression\n",
        "from sklearn import metrics\n",
        "from sklearn.tree import DecisionTreeRegressor\n",
        "from sklearn.ensemble import RandomForestRegressor\n",
        "\n"
      ],
      "execution_count": 2,
      "outputs": []
    },
    {
      "cell_type": "code",
      "metadata": {
        "id": "gG9WJGrl81KU"
      },
      "source": [
        "#reading data from drive \n",
        "df = pd.read_csv('/content/drive/MyDrive/spotify popularity /SpotifyFeatures.csv')"
      ],
      "execution_count": 3,
      "outputs": []
    },
    {
      "cell_type": "code",
      "metadata": {
        "colab": {
          "base_uri": "https://localhost:8080/",
          "height": 407
        },
        "id": "uNXXblRa81wn",
        "outputId": "39104b97-07aa-4681-d439-66b65a34d88e"
      },
      "source": [
        "#Inspecting the current dataframe\n",
        "df.head()\n"
      ],
      "execution_count": 4,
      "outputs": [
        {
          "output_type": "execute_result",
          "data": {
            "text/html": [
              "<div>\n",
              "<style scoped>\n",
              "    .dataframe tbody tr th:only-of-type {\n",
              "        vertical-align: middle;\n",
              "    }\n",
              "\n",
              "    .dataframe tbody tr th {\n",
              "        vertical-align: top;\n",
              "    }\n",
              "\n",
              "    .dataframe thead th {\n",
              "        text-align: right;\n",
              "    }\n",
              "</style>\n",
              "<table border=\"1\" class=\"dataframe\">\n",
              "  <thead>\n",
              "    <tr style=\"text-align: right;\">\n",
              "      <th></th>\n",
              "      <th>genre</th>\n",
              "      <th>artist_name</th>\n",
              "      <th>track_name</th>\n",
              "      <th>track_id</th>\n",
              "      <th>popularity</th>\n",
              "      <th>acousticness</th>\n",
              "      <th>danceability</th>\n",
              "      <th>duration_ms</th>\n",
              "      <th>energy</th>\n",
              "      <th>instrumentalness</th>\n",
              "      <th>key</th>\n",
              "      <th>liveness</th>\n",
              "      <th>loudness</th>\n",
              "      <th>mode</th>\n",
              "      <th>speechiness</th>\n",
              "      <th>tempo</th>\n",
              "      <th>time_signature</th>\n",
              "      <th>valence</th>\n",
              "    </tr>\n",
              "  </thead>\n",
              "  <tbody>\n",
              "    <tr>\n",
              "      <th>0</th>\n",
              "      <td>Movie</td>\n",
              "      <td>Henri Salvador</td>\n",
              "      <td>C'est beau de faire un Show</td>\n",
              "      <td>0BRjO6ga9RKCKjfDqeFgWV</td>\n",
              "      <td>0</td>\n",
              "      <td>0.611</td>\n",
              "      <td>0.389</td>\n",
              "      <td>99373</td>\n",
              "      <td>0.910</td>\n",
              "      <td>0.000</td>\n",
              "      <td>C#</td>\n",
              "      <td>0.3460</td>\n",
              "      <td>-1.828</td>\n",
              "      <td>Major</td>\n",
              "      <td>0.0525</td>\n",
              "      <td>166.969</td>\n",
              "      <td>4/4</td>\n",
              "      <td>0.814</td>\n",
              "    </tr>\n",
              "    <tr>\n",
              "      <th>1</th>\n",
              "      <td>Movie</td>\n",
              "      <td>Martin &amp; les fées</td>\n",
              "      <td>Perdu d'avance (par Gad Elmaleh)</td>\n",
              "      <td>0BjC1NfoEOOusryehmNudP</td>\n",
              "      <td>1</td>\n",
              "      <td>0.246</td>\n",
              "      <td>0.590</td>\n",
              "      <td>137373</td>\n",
              "      <td>0.737</td>\n",
              "      <td>0.000</td>\n",
              "      <td>F#</td>\n",
              "      <td>0.1510</td>\n",
              "      <td>-5.559</td>\n",
              "      <td>Minor</td>\n",
              "      <td>0.0868</td>\n",
              "      <td>174.003</td>\n",
              "      <td>4/4</td>\n",
              "      <td>0.816</td>\n",
              "    </tr>\n",
              "    <tr>\n",
              "      <th>2</th>\n",
              "      <td>Movie</td>\n",
              "      <td>Joseph Williams</td>\n",
              "      <td>Don't Let Me Be Lonely Tonight</td>\n",
              "      <td>0CoSDzoNIKCRs124s9uTVy</td>\n",
              "      <td>3</td>\n",
              "      <td>0.952</td>\n",
              "      <td>0.663</td>\n",
              "      <td>170267</td>\n",
              "      <td>0.131</td>\n",
              "      <td>0.000</td>\n",
              "      <td>C</td>\n",
              "      <td>0.1030</td>\n",
              "      <td>-13.879</td>\n",
              "      <td>Minor</td>\n",
              "      <td>0.0362</td>\n",
              "      <td>99.488</td>\n",
              "      <td>5/4</td>\n",
              "      <td>0.368</td>\n",
              "    </tr>\n",
              "    <tr>\n",
              "      <th>3</th>\n",
              "      <td>Movie</td>\n",
              "      <td>Henri Salvador</td>\n",
              "      <td>Dis-moi Monsieur Gordon Cooper</td>\n",
              "      <td>0Gc6TVm52BwZD07Ki6tIvf</td>\n",
              "      <td>0</td>\n",
              "      <td>0.703</td>\n",
              "      <td>0.240</td>\n",
              "      <td>152427</td>\n",
              "      <td>0.326</td>\n",
              "      <td>0.000</td>\n",
              "      <td>C#</td>\n",
              "      <td>0.0985</td>\n",
              "      <td>-12.178</td>\n",
              "      <td>Major</td>\n",
              "      <td>0.0395</td>\n",
              "      <td>171.758</td>\n",
              "      <td>4/4</td>\n",
              "      <td>0.227</td>\n",
              "    </tr>\n",
              "    <tr>\n",
              "      <th>4</th>\n",
              "      <td>Movie</td>\n",
              "      <td>Fabien Nataf</td>\n",
              "      <td>Ouverture</td>\n",
              "      <td>0IuslXpMROHdEPvSl1fTQK</td>\n",
              "      <td>4</td>\n",
              "      <td>0.950</td>\n",
              "      <td>0.331</td>\n",
              "      <td>82625</td>\n",
              "      <td>0.225</td>\n",
              "      <td>0.123</td>\n",
              "      <td>F</td>\n",
              "      <td>0.2020</td>\n",
              "      <td>-21.150</td>\n",
              "      <td>Major</td>\n",
              "      <td>0.0456</td>\n",
              "      <td>140.576</td>\n",
              "      <td>4/4</td>\n",
              "      <td>0.390</td>\n",
              "    </tr>\n",
              "  </tbody>\n",
              "</table>\n",
              "</div>"
            ],
            "text/plain": [
              "   genre        artist_name  ... time_signature valence\n",
              "0  Movie     Henri Salvador  ...            4/4   0.814\n",
              "1  Movie  Martin & les fées  ...            4/4   0.816\n",
              "2  Movie    Joseph Williams  ...            5/4   0.368\n",
              "3  Movie     Henri Salvador  ...            4/4   0.227\n",
              "4  Movie       Fabien Nataf  ...            4/4   0.390\n",
              "\n",
              "[5 rows x 18 columns]"
            ]
          },
          "metadata": {
            "tags": []
          },
          "execution_count": 4
        }
      ]
    },
    {
      "cell_type": "markdown",
      "metadata": {
        "id": "eDuwuq6wSeRb"
      },
      "source": [
        "**Exploratory Data Analysis**"
      ]
    },
    {
      "cell_type": "code",
      "metadata": {
        "colab": {
          "base_uri": "https://localhost:8080/",
          "height": 311
        },
        "id": "LQngv4FDT7Jf",
        "outputId": "977658dd-413e-45c9-8668-28f541328808"
      },
      "source": [
        "df.describe()"
      ],
      "execution_count": 5,
      "outputs": [
        {
          "output_type": "execute_result",
          "data": {
            "text/html": [
              "<div>\n",
              "<style scoped>\n",
              "    .dataframe tbody tr th:only-of-type {\n",
              "        vertical-align: middle;\n",
              "    }\n",
              "\n",
              "    .dataframe tbody tr th {\n",
              "        vertical-align: top;\n",
              "    }\n",
              "\n",
              "    .dataframe thead th {\n",
              "        text-align: right;\n",
              "    }\n",
              "</style>\n",
              "<table border=\"1\" class=\"dataframe\">\n",
              "  <thead>\n",
              "    <tr style=\"text-align: right;\">\n",
              "      <th></th>\n",
              "      <th>popularity</th>\n",
              "      <th>acousticness</th>\n",
              "      <th>danceability</th>\n",
              "      <th>duration_ms</th>\n",
              "      <th>energy</th>\n",
              "      <th>instrumentalness</th>\n",
              "      <th>liveness</th>\n",
              "      <th>loudness</th>\n",
              "      <th>speechiness</th>\n",
              "      <th>tempo</th>\n",
              "      <th>valence</th>\n",
              "    </tr>\n",
              "  </thead>\n",
              "  <tbody>\n",
              "    <tr>\n",
              "      <th>count</th>\n",
              "      <td>232725.000000</td>\n",
              "      <td>232725.000000</td>\n",
              "      <td>232725.000000</td>\n",
              "      <td>2.327250e+05</td>\n",
              "      <td>232725.000000</td>\n",
              "      <td>232725.000000</td>\n",
              "      <td>232725.000000</td>\n",
              "      <td>232725.000000</td>\n",
              "      <td>232725.000000</td>\n",
              "      <td>232725.000000</td>\n",
              "      <td>232725.000000</td>\n",
              "    </tr>\n",
              "    <tr>\n",
              "      <th>mean</th>\n",
              "      <td>41.127502</td>\n",
              "      <td>0.368560</td>\n",
              "      <td>0.554364</td>\n",
              "      <td>2.351223e+05</td>\n",
              "      <td>0.570958</td>\n",
              "      <td>0.148301</td>\n",
              "      <td>0.215009</td>\n",
              "      <td>-9.569885</td>\n",
              "      <td>0.120765</td>\n",
              "      <td>117.666585</td>\n",
              "      <td>0.454917</td>\n",
              "    </tr>\n",
              "    <tr>\n",
              "      <th>std</th>\n",
              "      <td>18.189948</td>\n",
              "      <td>0.354768</td>\n",
              "      <td>0.185608</td>\n",
              "      <td>1.189359e+05</td>\n",
              "      <td>0.263456</td>\n",
              "      <td>0.302768</td>\n",
              "      <td>0.198273</td>\n",
              "      <td>5.998204</td>\n",
              "      <td>0.185518</td>\n",
              "      <td>30.898907</td>\n",
              "      <td>0.260065</td>\n",
              "    </tr>\n",
              "    <tr>\n",
              "      <th>min</th>\n",
              "      <td>0.000000</td>\n",
              "      <td>0.000000</td>\n",
              "      <td>0.056900</td>\n",
              "      <td>1.538700e+04</td>\n",
              "      <td>0.000020</td>\n",
              "      <td>0.000000</td>\n",
              "      <td>0.009670</td>\n",
              "      <td>-52.457000</td>\n",
              "      <td>0.022200</td>\n",
              "      <td>30.379000</td>\n",
              "      <td>0.000000</td>\n",
              "    </tr>\n",
              "    <tr>\n",
              "      <th>25%</th>\n",
              "      <td>29.000000</td>\n",
              "      <td>0.037600</td>\n",
              "      <td>0.435000</td>\n",
              "      <td>1.828570e+05</td>\n",
              "      <td>0.385000</td>\n",
              "      <td>0.000000</td>\n",
              "      <td>0.097400</td>\n",
              "      <td>-11.771000</td>\n",
              "      <td>0.036700</td>\n",
              "      <td>92.959000</td>\n",
              "      <td>0.237000</td>\n",
              "    </tr>\n",
              "    <tr>\n",
              "      <th>50%</th>\n",
              "      <td>43.000000</td>\n",
              "      <td>0.232000</td>\n",
              "      <td>0.571000</td>\n",
              "      <td>2.204270e+05</td>\n",
              "      <td>0.605000</td>\n",
              "      <td>0.000044</td>\n",
              "      <td>0.128000</td>\n",
              "      <td>-7.762000</td>\n",
              "      <td>0.050100</td>\n",
              "      <td>115.778000</td>\n",
              "      <td>0.444000</td>\n",
              "    </tr>\n",
              "    <tr>\n",
              "      <th>75%</th>\n",
              "      <td>55.000000</td>\n",
              "      <td>0.722000</td>\n",
              "      <td>0.692000</td>\n",
              "      <td>2.657680e+05</td>\n",
              "      <td>0.787000</td>\n",
              "      <td>0.035800</td>\n",
              "      <td>0.264000</td>\n",
              "      <td>-5.501000</td>\n",
              "      <td>0.105000</td>\n",
              "      <td>139.054000</td>\n",
              "      <td>0.660000</td>\n",
              "    </tr>\n",
              "    <tr>\n",
              "      <th>max</th>\n",
              "      <td>100.000000</td>\n",
              "      <td>0.996000</td>\n",
              "      <td>0.989000</td>\n",
              "      <td>5.552917e+06</td>\n",
              "      <td>0.999000</td>\n",
              "      <td>0.999000</td>\n",
              "      <td>1.000000</td>\n",
              "      <td>3.744000</td>\n",
              "      <td>0.967000</td>\n",
              "      <td>242.903000</td>\n",
              "      <td>1.000000</td>\n",
              "    </tr>\n",
              "  </tbody>\n",
              "</table>\n",
              "</div>"
            ],
            "text/plain": [
              "          popularity   acousticness  ...          tempo        valence\n",
              "count  232725.000000  232725.000000  ...  232725.000000  232725.000000\n",
              "mean       41.127502       0.368560  ...     117.666585       0.454917\n",
              "std        18.189948       0.354768  ...      30.898907       0.260065\n",
              "min         0.000000       0.000000  ...      30.379000       0.000000\n",
              "25%        29.000000       0.037600  ...      92.959000       0.237000\n",
              "50%        43.000000       0.232000  ...     115.778000       0.444000\n",
              "75%        55.000000       0.722000  ...     139.054000       0.660000\n",
              "max       100.000000       0.996000  ...     242.903000       1.000000\n",
              "\n",
              "[8 rows x 11 columns]"
            ]
          },
          "metadata": {
            "tags": []
          },
          "execution_count": 5
        }
      ]
    },
    {
      "cell_type": "code",
      "metadata": {
        "id": "sBR2CrKbLzlg",
        "colab": {
          "base_uri": "https://localhost:8080/",
          "height": 1000
        },
        "outputId": "33cc5f56-8367-4b7c-ee76-adec6174b7f9"
      },
      "source": [
        "# Distrubution for music genres\n",
        "print(df['genre'].value_counts())\n",
        "df['genre'].value_counts().plot(kind='bar',figsize=(10,10))"
      ],
      "execution_count": 6,
      "outputs": [
        {
          "output_type": "stream",
          "text": [
            "Comedy              9681\n",
            "Soundtrack          9646\n",
            "Indie               9543\n",
            "Jazz                9441\n",
            "Pop                 9386\n",
            "Electronic          9377\n",
            "Children’s Music    9353\n",
            "Folk                9299\n",
            "Hip-Hop             9295\n",
            "Rock                9272\n",
            "Alternative         9263\n",
            "Classical           9256\n",
            "Rap                 9232\n",
            "World               9096\n",
            "Soul                9089\n",
            "Blues               9023\n",
            "R&B                 8992\n",
            "Anime               8936\n",
            "Reggaeton           8927\n",
            "Ska                 8874\n",
            "Reggae              8771\n",
            "Dance               8701\n",
            "Country             8664\n",
            "Opera               8280\n",
            "Movie               7806\n",
            "Children's Music    5403\n",
            "A Capella            119\n",
            "Name: genre, dtype: int64\n"
          ],
          "name": "stdout"
        },
        {
          "output_type": "execute_result",
          "data": {
            "text/plain": [
              "<matplotlib.axes._subplots.AxesSubplot at 0x7f44d0091610>"
            ]
          },
          "metadata": {
            "tags": []
          },
          "execution_count": 6
        },
        {
          "output_type": "display_data",
          "data": {
            "image/png": "[encoded data removed]",
            "text/plain": [
              "<Figure size 720x720 with 1 Axes>"
            ]
          },
          "metadata": {
            "tags": [],
            "needs_background": "light"
          }
        }
      ]
    },
    {
      "cell_type": "code",
      "metadata": {
        "colab": {
          "base_uri": "https://localhost:8080/",
          "height": 610
        },
        "id": "x6QZUdCKS0uP",
        "outputId": "3d82fdc3-9180-40c6-e057-c6cece497802"
      },
      "source": [
        "#Popularity \n",
        "\n",
        "df['popularity'].plot.hist(grid=True,bins=10,rwidth=0.9,figsize=(10,10))"
      ],
      "execution_count": 7,
      "outputs": [
        {
          "output_type": "execute_result",
          "data": {
            "text/plain": [
              "<matplotlib.axes._subplots.AxesSubplot at 0x7f44b4a7efd0>"
            ]
          },
          "metadata": {
            "tags": []
          },
          "execution_count": 7
        },
        {
          "output_type": "display_data",
          "data": {
            "image/png": "[encoded data removed]",
            "text/plain": [
              "<Figure size 720x720 with 1 Axes>"
            ]
          },
          "metadata": {
            "tags": [],
            "needs_background": "light"
          }
        }
      ]
    },
    {
      "cell_type": "code",
      "metadata": {
        "id": "ugnFUctOVE27",
        "colab": {
          "base_uri": "https://localhost:8080/",
          "height": 364
        },
        "outputId": "5fdfc378-9486-4d82-c289-21ef392cff34"
      },
      "source": [
        "#Exploring the relationships between features\n",
        "\n",
        "sns.heatmap(df.loc[:,['acousticness', 'danceability', 'energy', 'liveness', 'loudness', 'valence','tempo','instrumentalness','popularity']].corr(),annot=True)"
      ],
      "execution_count": 8,
      "outputs": [
        {
          "output_type": "execute_result",
          "data": {
            "text/plain": [
              "<matplotlib.axes._subplots.AxesSubplot at 0x7f44b45dd9d0>"
            ]
          },
          "metadata": {
            "tags": []
          },
          "execution_count": 8
        },
        {
          "output_type": "display_data",
          "data": {
            "image/png": "[encoded data removed]",
            "text/plain": [
              "<Figure size 432x288 with 2 Axes>"
            ]
          },
          "metadata": {
            "tags": [],
            "needs_background": "light"
          }
        }
      ]
    },
    {
      "cell_type": "code",
      "metadata": {
        "colab": {
          "base_uri": "https://localhost:8080/"
        },
        "id": "RNFWhof8zxK9",
        "outputId": "c8e0324c-6891-427e-9070-046f036dd936"
      },
      "source": [
        "# feature array and target vector \n",
        "\n",
        "X = df.loc[:,['acousticness', 'danceability', 'energy', 'liveness', 'loudness', 'valence','tempo','instrumentalness']]\n",
        "y = np.array(df['popularity']).reshape(-1,1)\n",
        "\n",
        "# feature scaling \n",
        "'''\n",
        "from sklearn.preprocessing import StandardScaler\n",
        "sc_X= StandardScaler()\n",
        "sc_y= StandardScaler()\n",
        "X=sc_X.fit_transform(X)\n",
        "y=sc_y.fit_transform(y)\n",
        "'''\n",
        "\n",
        "\n",
        "\n",
        "# splitting the data\n",
        "\n",
        "\n",
        "X_train, X_test, y_train, y_test = train_test_split(X,y,test_size = 0.3)\n",
        "\n",
        "# creating models and fitting \n",
        "lr = LinearRegression()\n",
        "lr.fit(X_train,y_train)\n",
        "\n",
        "dt = DecisionTreeRegressor()\n",
        "dt.fit(X_train,y_train)\n",
        "\n",
        "rf = RandomForestRegressor(max_depth=2, random_state=0)\n",
        "rf.fit(X_train,y_train)"
      ],
      "execution_count": 9,
      "outputs": [
        {
          "output_type": "stream",
          "text": [
            "/usr/local/lib/python3.7/dist-packages/ipykernel_launcher.py:30: DataConversionWarning: A column-vector y was passed when a 1d array was expected. Please change the shape of y to (n_samples,), for example using ravel().\n"
          ],
          "name": "stderr"
        },
        {
          "output_type": "execute_result",
          "data": {
            "text/plain": [
              "RandomForestRegressor(bootstrap=True, ccp_alpha=0.0, criterion='mse',\n",
              "                      max_depth=2, max_features='auto', max_leaf_nodes=None,\n",
              "                      max_samples=None, min_impurity_decrease=0.0,\n",
              "                      min_impurity_split=None, min_samples_leaf=1,\n",
              "                      min_samples_split=2, min_weight_fraction_leaf=0.0,\n",
              "                      n_estimators=100, n_jobs=None, oob_score=False,\n",
              "                      random_state=0, verbose=0, warm_start=False)"
            ]
          },
          "metadata": {
            "tags": []
          },
          "execution_count": 9
        }
      ]
    },
    {
      "cell_type": "code",
      "metadata": {
        "id": "hxhFnR5xu4yG"
      },
      "source": [
        "# making predictions\n",
        "\n",
        "predictions_lr = lr.predict(X_test)\n",
        "predictions_dt = dt.predict(X_test)\n",
        "predictions_rf = rf.predict(X_test)\n"
      ],
      "execution_count": 10,
      "outputs": []
    },
    {
      "cell_type": "code",
      "metadata": {
        "colab": {
          "base_uri": "https://localhost:8080/",
          "height": 283
        },
        "id": "9RQj8dFrzKFY",
        "outputId": "434f17f0-55d9-4330-a1ad-becea8a3efa5"
      },
      "source": [
        "# scatter plot of true y and predicted y\n",
        "\n",
        "plt.scatter(y_test,predictions_lr)"
      ],
      "execution_count": 11,
      "outputs": [
        {
          "output_type": "execute_result",
          "data": {
            "text/plain": [
              "<matplotlib.collections.PathCollection at 0x7f44a9bcde50>"
            ]
          },
          "metadata": {
            "tags": []
          },
          "execution_count": 11
        },
        {
          "output_type": "display_data",
          "data": {
            "image/png": "[encoded data removed]",
            "text/plain": [
              "<Figure size 432x288 with 1 Axes>"
            ]
          },
          "metadata": {
            "tags": [],
            "needs_background": "light"
          }
        }
      ]
    },
    {
      "cell_type": "markdown",
      "metadata": {
        "id": "LVMTHXDNzu10"
      },
      "source": [
        "Residuals appear to be normally distributed"
      ]
    },
    {
      "cell_type": "code",
      "metadata": {
        "colab": {
          "base_uri": "https://localhost:8080/",
          "height": 372
        },
        "id": "zBOUimSxzU6k",
        "outputId": "e2d8f780-7796-46bc-9983-3990161172e3"
      },
      "source": [
        "# histogram of residuals\n",
        "\n",
        "plt.hist(y_test-predictions_lr)"
      ],
      "execution_count": 12,
      "outputs": [
        {
          "output_type": "execute_result",
          "data": {
            "text/plain": [
              "(array([  252.,  1662.,  4741., 10142., 16217., 20229., 12214.,  3784.,\n",
              "          533.,    44.]),\n",
              " array([-55.99744387, -44.72070508, -33.44396629, -22.16722751,\n",
              "        -10.89048872,   0.38625007,  11.66298886,  22.93972764,\n",
              "         34.21646643,  45.49320522,  56.76994401]),\n",
              " <a list of 10 Patch objects>)"
            ]
          },
          "metadata": {
            "tags": []
          },
          "execution_count": 12
        },
        {
          "output_type": "display_data",
          "data": {
            "image/png": "[encoded data removed]",
            "text/plain": [
              "<Figure size 432x288 with 1 Axes>"
            ]
          },
          "metadata": {
            "tags": [],
            "needs_background": "light"
          }
        }
      ]
    },
    {
      "cell_type": "code",
      "metadata": {
        "colab": {
          "base_uri": "https://localhost:8080/"
        },
        "id": "88mDWmBZzk9M",
        "outputId": "d578bb43-5a71-43e0-9f26-4671436f6007"
      },
      "source": [
        "# Evaluating regression model with MAE, MSE and RMSE\n",
        "\n",
        "print('REGRESSION')\n",
        "print()\n",
        "MAE = metrics.mean_absolute_error(y_test, predictions_lr)\n",
        "print('Mean Absolute Error: ',MAE)\n",
        "\n",
        "MSE = metrics.mean_squared_error(y_test,predictions_lr)\n",
        "print('Mean Squared Error: ',MSE)\n",
        "\n",
        "RMSE = np.sqrt(MSE)\n",
        "print('Root Mean Squared Error: ',RMSE)\n",
        "\n",
        "R2 = metrics.r2_score(y_test,predictions_lr)\n",
        "print('R2 score: ',R2)\n",
        "print()\n",
        "\n",
        "print('DECISION TREE')\n",
        "print()\n",
        "MAE = metrics.mean_absolute_error(y_test, predictions_dt)\n",
        "print('Mean Absolute Error: ',MAE)\n",
        "\n",
        "MSE = metrics.mean_squared_error(y_test,predictions_dt)\n",
        "print('Mean Squared Error: ',MSE)\n",
        "\n",
        "RMSE = np.sqrt(MSE)\n",
        "print('Root Mean Squared Error: ',RMSE)\n",
        "\n",
        "R2 = metrics.r2_score(y_test,predictions_dt)\n",
        "print('R2 score: ',R2)\n",
        "print()\n",
        "\n",
        "print('RANDOM FOREST')\n",
        "print()\n",
        "MAE = metrics.mean_absolute_error(y_test, predictions_rf)\n",
        "print('Mean Absolute Error: ',MAE)\n",
        "\n",
        "MSE = metrics.mean_squared_error(y_test,predictions_rf)\n",
        "print('Mean Squared Error: ',MSE)\n",
        "\n",
        "RMSE = np.sqrt(MSE)\n",
        "print('Root Mean Squared Error: ',RMSE)\n",
        "\n",
        "R2 = metrics.r2_score(y_test,predictions_rf)\n",
        "print('R2 score: ',R2)\n",
        "print()"
      ],
      "execution_count": 13,
      "outputs": [
        {
          "output_type": "stream",
          "text": [
            "REGRESSION\n",
            "\n",
            "Mean Absolute Error:  12.742222165406773\n",
            "Mean Squared Error:  254.2653344037457\n",
            "Root Mean Squared Error:  15.945699558305547\n",
            "R2 score:  0.23273329631028417\n",
            "\n",
            "DECISION TREE\n",
            "\n",
            "Mean Absolute Error:  11.264341437397098\n",
            "Mean Squared Error:  297.13450125135853\n",
            "Root Mean Squared Error:  17.237589775005045\n",
            "R2 score:  0.10337203511349324\n",
            "\n",
            "RANDOM FOREST\n",
            "\n",
            "Mean Absolute Error:  13.122538900166843\n",
            "Mean Squared Error:  267.43402965058334\n",
            "Root Mean Squared Error:  16.35341033700871\n",
            "R2 score:  0.19299566783006183\n",
            "\n"
          ],
          "name": "stdout"
        }
      ]
    },
    {
      "cell_type": "markdown",
      "metadata": {
        "id": "sPfm_X7BSCS0"
      },
      "source": [
        "Second model this time with feature selection, based on using features with high corr with target feature"
      ]
    },
    {
      "cell_type": "code",
      "metadata": {
        "id": "9H6X363C5PJF",
        "colab": {
          "base_uri": "https://localhost:8080/"
        },
        "outputId": "aaf502c0-4d5c-438b-d184-2c68bf6cef49"
      },
      "source": [
        "X = df.loc[:,['danceability', 'energy', 'loudness']]\n",
        "y = df['popularity']\n",
        "\n",
        "X_train, X_test, y_train, y_test = train_test_split(X,y,test_size = 0.3)\n",
        "\n",
        "model2 = LinearRegression()\n",
        "\n",
        "model2.fit(X_train,y_train)"
      ],
      "execution_count": 14,
      "outputs": [
        {
          "output_type": "execute_result",
          "data": {
            "text/plain": [
              "LinearRegression(copy_X=True, fit_intercept=True, n_jobs=None, normalize=False)"
            ]
          },
          "metadata": {
            "tags": []
          },
          "execution_count": 14
        }
      ]
    },
    {
      "cell_type": "code",
      "metadata": {
        "id": "z2DynDH2SY74"
      },
      "source": [
        "# making predictions\n",
        "\n",
        "predictions2 = model2.predict(X_test)"
      ],
      "execution_count": 15,
      "outputs": []
    },
    {
      "cell_type": "code",
      "metadata": {
        "id": "JZbOHiMSSiha",
        "colab": {
          "base_uri": "https://localhost:8080/",
          "height": 283
        },
        "outputId": "cf619511-a9e7-481c-de30-710a583f7628"
      },
      "source": [
        "# scatter plot of true y and predicted y\n",
        "\n",
        "plt.scatter(y_test,predictions2)"
      ],
      "execution_count": 16,
      "outputs": [
        {
          "output_type": "execute_result",
          "data": {
            "text/plain": [
              "<matplotlib.collections.PathCollection at 0x7f44a9bcdd50>"
            ]
          },
          "metadata": {
            "tags": []
          },
          "execution_count": 16
        },
        {
          "output_type": "display_data",
          "data": {
            "image/png": "[encoded data removed]",
            "text/plain": [
              "<Figure size 432x288 with 1 Axes>"
            ]
          },
          "metadata": {
            "tags": [],
            "needs_background": "light"
          }
        }
      ]
    },
    {
      "cell_type": "code",
      "metadata": {
        "id": "RbzmopTGSnnJ",
        "colab": {
          "base_uri": "https://localhost:8080/",
          "height": 372
        },
        "outputId": "be4c13fb-e02b-48e6-f710-9a301ba3fbda"
      },
      "source": [
        "# histogram of residuals\n",
        "\n",
        "plt.hist(y_test-predictions2)"
      ],
      "execution_count": 17,
      "outputs": [
        {
          "output_type": "execute_result",
          "data": {
            "text/plain": [
              "(array([  565.,  2320.,  5547., 10971., 15633., 19901., 11636.,  2896.,\n",
              "          322.,    27.]),\n",
              " array([-55.20335915, -43.71585555, -32.22835196, -20.74084837,\n",
              "         -9.25334477,   2.23415882,  13.72166241,  25.20916601,\n",
              "         36.6966696 ,  48.18417319,  59.67167678]),\n",
              " <a list of 10 Patch objects>)"
            ]
          },
          "metadata": {
            "tags": []
          },
          "execution_count": 17
        },
        {
          "output_type": "display_data",
          "data": {
            "image/png": "[encoded data removed]",
            "text/plain": [
              "<Figure size 432x288 with 1 Axes>"
            ]
          },
          "metadata": {
            "tags": [],
            "needs_background": "light"
          }
        }
      ]
    },
    {
      "cell_type": "code",
      "metadata": {
        "colab": {
          "base_uri": "https://localhost:8080/"
        },
        "id": "UhJyPFzAJlMZ",
        "outputId": "f2b78419-ce5e-46a9-806d-d971bffe76ed"
      },
      "source": [
        "MAE = metrics.mean_absolute_error(y_test, predictions2)\n",
        "print('Mean Absolute Error: ',MAE)\n",
        "\n",
        "MSE = metrics.mean_squared_error(y_test,predictions2)\n",
        "print('Mean Squared Error: ',MSE)\n",
        "\n",
        "RMSE = np.sqrt(MSE)\n",
        "print('Root Mean Squared Error: ',RMSE)"
      ],
      "execution_count": 18,
      "outputs": [
        {
          "output_type": "stream",
          "text": [
            "Mean Absolute Error:  13.504921935749719\n",
            "Mean Squared Error:  281.4160159264782\n",
            "Root Mean Squared Error:  16.77545873967321\n"
          ],
          "name": "stdout"
        }
      ]
    }
  ]
}