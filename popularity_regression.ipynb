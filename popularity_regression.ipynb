{
  "nbformat": 4,
  "nbformat_minor": 0,
  "metadata": {
    "colab": {
      "name": "popularity_regression.ipynb",
      "provenance": []
    },
    "kernelspec": {
      "name": "python3",
      "display_name": "Python 3"
    },
    "accelerator": "GPU"
  },
  "cells": [
    {
      "cell_type": "code",
      "metadata": {
        "id": "0_6t4gcEYtwU",
        "colab": {
          "base_uri": "https://localhost:8080/",
          "height": 122
        },
        "outputId": "876ae391-6ef3-4b1f-fce9-4ab05ae5b220"
      },
      "source": [
        "\n",
        "from google.colab import drive\n",
        "drive.mount('/content/drive')\n"
      ],
      "execution_count": null,
      "outputs": [
        {
          "output_type": "stream",
          "text": [
            "Go to this URL in a browser: https://accounts.google.com/o/oauth2/auth?client_id=947318989803-6bn6qk8qdgf4n4g3pfee6491hc0brc4i.apps.googleusercontent.com&redirect_uri=urn%3aietf%3awg%3aoauth%3a2.0%3aoob&response_type=code&scope=email%20https%3a%2f%2fwww.googleapis.com%2fauth%2fdocs.test%20https%3a%2f%2fwww.googleapis.com%2fauth%2fdrive%20https%3a%2f%2fwww.googleapis.com%2fauth%2fdrive.photos.readonly%20https%3a%2f%2fwww.googleapis.com%2fauth%2fpeopleapi.readonly\n",
            "\n",
            "Enter your authorization code:\n",
            "··········\n",
            "Mounted at /content/drive\n"
          ],
          "name": "stdout"
        }
      ]
    },
    {
      "cell_type": "code",
      "metadata": {
        "id": "cBQWqZ5rY8XM",
        "colab": {
          "base_uri": "https://localhost:8080/",
          "height": 51
        },
        "outputId": "b5ae9f7f-05ae-46f7-c049-fb9dfcab5e3f"
      },
      "source": [
        "import os \n",
        "import sys\n",
        "import json\n",
        "import numpy as np \n",
        "from json import JSONDecodeError  \n",
        "import pandas as pd\n",
        "import seaborn as sns\n",
        "import matplotlib.pyplot as plt\n",
        "import plotly.express as px\n",
        "import matplotlib.dates as mdates\n",
        "from scipy import stats\n",
        "from matplotlib.cbook import boxplot_stats\n",
        "from scipy.stats import iqr\n",
        "from statsmodels.tsa.seasonal import seasonal_decompose\n",
        "from dateutil.parser import parse\n",
        "from statsmodels.tsa.stattools import adfuller, kpss\n",
        "from sklearn import preprocessing\n",
        "from matplotlib import pyplot\n",
        "from sklearn.metrics import mean_squared_error\n",
        "from math import sqrt\n",
        "from scipy import spatial\n",
        "from sklearn.model_selection import train_test_split\n",
        "\n"
      ],
      "execution_count": null,
      "outputs": [
        {
          "output_type": "stream",
          "text": [
            "/usr/local/lib/python3.6/dist-packages/statsmodels/tools/_testing.py:19: FutureWarning: pandas.util.testing is deprecated. Use the functions in the public API at pandas.testing instead.\n",
            "  import pandas.util.testing as tm\n"
          ],
          "name": "stderr"
        }
      ]
    },
    {
      "cell_type": "code",
      "metadata": {
        "id": "eKTW78YUeHah",
        "colab": {
          "base_uri": "https://localhost:8080/",
          "height": 51
        },
        "outputId": "0404c1b4-af58-484e-bfb0-da05fb064289"
      },
      "source": [
        "\n",
        "#uncomment for google drive\n",
        "df = pd.read_csv('/content/drive/My Drive/mldm_cw/datasets/billboard_1950-2019_ultimate_3.0.csv')\n",
        "df2 = pd.read_csv('/content/drive/My Drive/mldm_cw/datasets/2020songs.csv')\n",
        "\n",
        "\n",
        "\n",
        "#values from the lstm model\n",
        "current_trend =[0.19937964,0.7092857,0.6433672,0.15416627,0.70449007,0.53694385]\n",
        "\n",
        "#cleaning dataframes\n",
        "print(len(df))\n",
        "df.drop_duplicates(subset =\"trackID\", keep = False, inplace = True)\n",
        "df2.drop_duplicates(subset =\"trackID\", keep = False, inplace = True)\n",
        "del df2['Unnamed: 0']\n",
        "print(len(df))\n",
        "\n",
        "#normalisation function\n",
        "def normal(x):\n",
        "  normalised = (x-min(df['loudness']))/(max(df['loudness'])-min(df['loudness']))\n",
        "  return normalised\n",
        "\n",
        "\n",
        "def normal2(x):\n",
        "  normalised = (x-min(df2['loudness']))/(max(df2['loudness'])-min(df2['loudness']))\n",
        "  return normalised\n",
        "\n",
        "def popular(x):\n",
        "  pop = x/100\n",
        "  return pop\n",
        "\n",
        "#cosine similairity function \n",
        "def cosine_similarity(x):\n",
        "    similarity =[]\n",
        "    for index, row in x.iterrows():\n",
        "      attr = [row['acousticness'],row['danceability'],row['energy'],row['liveness'],row['loudness'],row['valence']]\n",
        "      result =  1 - spatial.distance.cosine(current_trend, attr)\n",
        "      similarity.append(result)\n",
        "\n",
        "    return similarity\n",
        "\n",
        "# train\n",
        "df['loudness'] = df['loudness'].apply(normal)\n",
        "\n",
        "df['popularity']= df['popularity'].apply(popular)\n",
        "\n",
        "#test\n",
        "df2['loudness'] = df2['loudness'].apply(normal2)\n",
        "\n",
        "df2['popularity']= df2['popularity'].apply(popular)\n",
        "\n",
        "df.drop(df[df.popularity < 0.09].index, inplace=True)\n",
        "\n",
        "#train\n",
        "similarity = cosine_similarity(df)\n",
        "se = pd.Series(similarity)\n",
        "df['similarity'] = se.values\n",
        "\n",
        "#test\n",
        "similarity2 = cosine_similarity(df2)\n",
        "se2 = pd.Series(similarity2)\n",
        "df2['similarity'] = se2.values\n",
        "\n",
        "#df.drop(df[(df.popularity < 0.30) & (df.similarity>0.9)].index, inplace=True)\n",
        "#train\n",
        "cols = df.columns.tolist()\n",
        "\n",
        "cols = cols[0:len(cols)-2]+[cols[-1]]+[cols[-2]]\n",
        "df = df[cols]\n",
        "\n",
        "#test\n",
        "cols = df2.columns.tolist()\n",
        "\n",
        "cols = cols[0:len(cols)-2]+[cols[-1]]+[cols[-2]]\n",
        "df2 = df2[cols]\n",
        "\n",
        "\n"
      ],
      "execution_count": null,
      "outputs": [
        {
          "output_type": "stream",
          "text": [
            "5759\n",
            "5759\n"
          ],
          "name": "stdout"
        }
      ]
    },
    {
      "cell_type": "code",
      "metadata": {
        "id": "aMjeWhC1e41f",
        "colab": {
          "base_uri": "https://localhost:8080/",
          "height": 34
        },
        "outputId": "3cd5dd8e-9d37-4597-9f71-464158a51636"
      },
      "source": [
        "# load head of dataframe and check how many data point therea are \n",
        "df2.head()\n",
        "print(len(df2))\n"
      ],
      "execution_count": null,
      "outputs": [
        {
          "output_type": "stream",
          "text": [
            "460\n"
          ],
          "name": "stdout"
        }
      ]
    },
    {
      "cell_type": "code",
      "metadata": {
        "id": "2e2XR58SnL5Y",
        "colab": {
          "base_uri": "https://localhost:8080/",
          "height": 296
        },
        "outputId": "b88e31c2-5e7a-4bb0-8485-f31da08da1f8"
      },
      "source": [
        "#graphing the similarity against the popularity.\n",
        "print(len(df))\n",
        "df.plot(kind='scatter',x='similarity',y='popularity',color='red',s=1)\n",
        "plt.show()\n",
        "\n"
      ],
      "execution_count": null,
      "outputs": [
        {
          "output_type": "stream",
          "text": [
            "5352\n"
          ],
          "name": "stdout"
        },
        {
          "output_type": "display_data",
          "data": {
            "image/png": "[encoded data removed]",
            "text/plain": [
              "<Figure size 432x288 with 1 Axes>"
            ]
          },
          "metadata": {
            "tags": [],
            "needs_background": "light"
          }
        }
      ]
    },
    {
      "cell_type": "code",
      "metadata": {
        "id": "8_1ShSPLCGVf",
        "colab": {
          "base_uri": "https://localhost:8080/",
          "height": 204
        },
        "outputId": "c8c09575-b4ff-4aab-a289-606eaab9e985"
      },
      "source": [
        "from sklearn.svm import SVR\n",
        "from math import sqrt\n",
        "from sklearn.metrics import mean_squared_error\n",
        "from sklearn.metrics import r2_score\n",
        "cols = df.columns.tolist()\n",
        "print(cols[5:12])\n",
        "X = df.iloc[:,5:12].values.astype(float)\n",
        "y = df.iloc[:,-1:].values.astype(float)\n",
        "\n",
        "\n",
        "\n",
        "X_train, X_val, y_train, y_val = train_test_split(X, y, test_size=0.30, random_state=42)\n",
        "\n",
        "\n",
        "regressor = SVR(kernel= 'rbf', C=10,gamma=2)\n",
        "regressor.fit(X_train, y_train)\n",
        "\n",
        "train_predicted = regressor.predict(X_train)\n",
        "val_predicted = regressor.predict(X_val)\n",
        "print(len(X_train))\n",
        "print(len(train_predicted))\n",
        "\n",
        "train_rmse = sqrt(mean_squared_error(y_train,train_predicted))\n",
        "val_rmse = sqrt(mean_squared_error(y_val,val_predicted))\n",
        "\n",
        "\n",
        "\n",
        "print('train rmse = ',train_rmse)\n",
        "print('val rmse = ',val_rmse)\n",
        "\n",
        "#test set prediction \n",
        "X_test = df2.iloc[:,3:10].values.astype(float)\n",
        "y_test = df2.iloc[:,-1:].values.astype(float)\n",
        "\n",
        "test_predicted = regressor.predict(X_test)\n",
        "\n",
        "test_rmse = sqrt(mean_squared_error(y_test,test_predicted))\n",
        "\n",
        "print(y_test[71],test_predicted[71])\n",
        "\n",
        "print('test rmse =',test_rmse)\n",
        "\n",
        "\n",
        "\n",
        "\n"
      ],
      "execution_count": null,
      "outputs": [
        {
          "output_type": "stream",
          "text": [
            "['acousticness', 'danceability', 'energy', 'liveness', 'loudness', 'valence', 'similarity']\n"
          ],
          "name": "stdout"
        },
        {
          "output_type": "stream",
          "text": [
            "/usr/local/lib/python3.6/dist-packages/sklearn/utils/validation.py:760: DataConversionWarning:\n",
            "\n",
            "A column-vector y was passed when a 1d array was expected. Please change the shape of y to (n_samples, ), for example using ravel().\n",
            "\n"
          ],
          "name": "stderr"
        },
        {
          "output_type": "stream",
          "text": [
            "3746\n",
            "3746\n",
            "train rmse =  0.1507938076908533\n",
            "val rmse =  0.15131172515107522\n",
            "[0.69] 0.6060804434412985\n",
            "test rmse = 0.21231246403710097\n"
          ],
          "name": "stdout"
        }
      ]
    },
    {
      "cell_type": "code",
      "metadata": {
        "id": "HZcf9KJnz6ZU",
        "colab": {
          "base_uri": "https://localhost:8080/",
          "height": 187
        },
        "outputId": "96d3c368-024c-4e1e-8d95-338963a23ae2"
      },
      "source": [
        " from sklearn.neural_network import MLPRegressor\n",
        "# MLP model\n",
        "MLPregressor = MLPRegressor(random_state=1, max_iter=100,learning_rate_init=0.001,hidden_layer_sizes=(10000,)).fit(X_train, y_train)\n",
        "\n",
        "\n",
        "\n",
        "train_predicted = MLPregressor.predict(X_train)\n",
        "val_predicted = MLPregressor.predict(X_val)\n",
        "print(len(X_train))\n",
        "print(len(train_predicted))\n",
        "\n",
        "train_rmse = sqrt(mean_squared_error(y_train,train_predicted))\n",
        "val_rmse = sqrt(mean_squared_error(y_val,val_predicted))\n",
        "\n",
        "\n",
        "\n",
        "print('train rmse = ',train_rmse)\n",
        "print('val rmse = ',val_rmse)\n",
        "\n",
        "test_predicted = MLPregressor.predict(X_test)\n",
        "\n",
        "test_rmse = sqrt(mean_squared_error(y_test,test_predicted))\n",
        "\n",
        "\n",
        "\n",
        "print(y_test[71],test_predicted[71])\n",
        "\n",
        "print('test rmse =',test_rmse)\n"
      ],
      "execution_count": null,
      "outputs": [
        {
          "output_type": "stream",
          "text": [
            "/usr/local/lib/python3.6/dist-packages/sklearn/neural_network/_multilayer_perceptron.py:1342: DataConversionWarning:\n",
            "\n",
            "A column-vector y was passed when a 1d array was expected. Please change the shape of y to (n_samples, ), for example using ravel().\n",
            "\n"
          ],
          "name": "stderr"
        },
        {
          "output_type": "stream",
          "text": [
            "3746\n",
            "3746\n",
            "train rmse =  0.15772045990283368\n",
            "val rmse =  0.15253007457083548\n",
            "[0.69] 0.5900178986488598\n",
            "test rmse = 0.20161335383890402\n"
          ],
          "name": "stdout"
        }
      ]
    },
    {
      "cell_type": "code",
      "metadata": {
        "id": "2XRbjEvdDxQN",
        "colab": {
          "base_uri": "https://localhost:8080/",
          "height": 187
        },
        "outputId": "277b5c66-668d-4943-8add-db7a78472166"
      },
      "source": [
        "from sklearn.ensemble import RandomForestRegressor\n",
        "\n",
        "RFregressor = RandomForestRegressor(n_estimators = 1000, max_depth=5, random_state=1,max_features='sqrt').fit(X_train, y_train)\n",
        "\n",
        "#trainset prediction\n",
        "train_predicted = RFregressor.predict(X_train)\n",
        "val_predicted = RFregressor.predict(X_val)\n",
        "print(len(X_train))\n",
        "print(len(train_predicted))\n",
        "\n",
        "train_rmse = sqrt(mean_squared_error(y_train,train_predicted))\n",
        "val_rmse = sqrt(mean_squared_error(y_val,val_predicted))\n",
        "\n",
        "\n",
        "\n",
        "print('train rmse = ',train_rmse)\n",
        "print('val rmse = ',val_rmse)\n",
        "\n",
        "#test set prediction\n",
        "test_predicted = RFregressor.predict(X_test)\n",
        "\n",
        "test_rmse = sqrt(mean_squared_error(y_test,test_predicted))\n",
        "\n",
        "\n",
        "\n",
        "print(y_test[72],test_predicted[72])\n",
        "\n",
        "print('test rmse =',test_rmse)\n"
      ],
      "execution_count": null,
      "outputs": [
        {
          "output_type": "stream",
          "text": [
            "/usr/local/lib/python3.6/dist-packages/ipykernel_launcher.py:3: DataConversionWarning:\n",
            "\n",
            "A column-vector y was passed when a 1d array was expected. Please change the shape of y to (n_samples,), for example using ravel().\n",
            "\n"
          ],
          "name": "stderr"
        },
        {
          "output_type": "stream",
          "text": [
            "3746\n",
            "3746\n",
            "train rmse =  0.15188694449116472\n",
            "val rmse =  0.15203043875440025\n",
            "[0.68] 0.5785565866998055\n",
            "test rmse = 0.20192784834801378\n"
          ],
          "name": "stdout"
        }
      ]
    }
  ]
}